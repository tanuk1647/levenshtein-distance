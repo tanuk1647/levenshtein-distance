{
 "cells": [
  {
   "cell_type": "markdown",
   "metadata": {},
   "source": [
    "# 編集距離（レーベンシュタイン距離）を理解し、実装する\n",
    "\n",
    "とある実験を行うため、**編集距離**を使う必要があるので、勉強したものをアウトプットします。\n",
    "\n",
    "**＜本記事のゴール＞**\n",
    "\n",
    "編集距離について、理解した上で、Pythonで実装できている状態\n",
    "\n",
    "**＜進め方＞**\n",
    "\n",
    "- 編集距離の概念を理解する\n",
    "- 編集距離の実装（正解）を見る\n",
    "- デコレータについて理解する\n",
    "- メモ化について理解する\n",
    "- 編集距離の実装（正解）を理解する\n",
    "- 補足：編集距離の発展形を理解する\n"
   ]
  },
  {
   "cell_type": "markdown",
   "metadata": {},
   "source": [
    "## 編集距離の概念を理解する\n",
    "\n",
    "編集距離、または、レーベンシュタイン距離については、[Wikipedia](https://ja.wikipedia.org/wiki/レーベンシュタイン距離)に以下の記載があります。\n",
    "\n",
    ">レーベンシュタイン距離（レーベンシュタインきょり、英: Levenshtein distance）は、二つの文字列がどの程度異なっているかを示す距離の一種である。編集距離（へんしゅうきょり、英: edit distance）とも呼ばれる。具体的には、1文字の挿入・削除・置換によって、一方の文字列をもう一方の文字列に変形するのに必要な手順の最小回数として定義される。\n",
    "\n",
    "文字列Aと文字列Bを同時に先頭からスキャンしながら、以下操作を行います。\n",
    "\n",
    "- 文字列Aの現在位置に、文字列Bの現在位置の文字を挿入（I：Insert）\n",
    "- 文字列Aの現在位置の文字を削除（D：Delete）\n",
    "- 文字列Aの現在位置の文字を、文字列Bの現在位置の文字で置換（R：Replace）\n",
    "- 何もしない（M：Match）\n",
    "\n",
    "以上をワンパス行うことで、文字列Aは文字列Bと等しくなります。何もしない場合を除き、コスト1が発生するとします。挿入、削除、置換の選び方は自由なので、コストの合計はいろんな値をとり得ますが、最小のものを編集距離とします。\n",
    "\n",
    "『[Algorithms on strings, trees, and sequences](http://iss.ndl.go.jp/books/R100000074-I000699780-00)』pp.215-216では、文字列「vintner」と「writers」が操作「RIMDMDMMI」によって一致する例が示されています。\n",
    "\n",
    "- 初期状態\n",
    "\n",
    "|0|1|2|3|4|5|6|\n",
    "|:-:|:-:|:-:|:-:|:-:|:-:|:-:|\n",
    "|v|i|n|t|n|e|r|\n",
    "|w|r|i|t|e|r|s|\n",
    "\n",
    "- 0番目の文字をvからwに置換（コスト==1）\n",
    "\n",
    "|<font color=\"red\">0</font>|1|2|3|4|5|6|\n",
    "|:-:|:-:|:-:|:-:|:-:|:-:|:-:|\n",
    "|w|i|n|t|n|e|r|\n",
    "|w|r|i|t|e|r|s|\n",
    "\n",
    "- 1番目に文字rを挿入（コスト==2）\n",
    "\n",
    "|0|<font color=\"red\">1</font>|2|3|4|5|6|7|\n",
    "|:-:|:-:|:-:|:-:|:-:|:-:|:-:|:-:|\n",
    "|w|r|i|n|t|n|e|r|\n",
    "|w|r|i|t|e|r|s||\n",
    "\n",
    "- 2番目の文字iは一致（コスト==2）\n",
    "\n",
    "|0|1|<font color=\"red\">2</font>|3|4|5|6|7|\n",
    "|:-:|:-:|:-:|:-:|:-:|:-:|:-:|:-:|\n",
    "|w|r|i|n|t|n|e|r|\n",
    "|w|r|i|t|e|r|s||\n",
    "\n",
    "- 3番目の文字nを削除→tが一致（コスト==3）\n",
    "\n",
    "|0|1|2|<font color=\"red\">3</font>|4|5|6|\n",
    "|:-:|:-:|:-:|:-:|:-:|:-:|:-:|\n",
    "|w|r|i|t|n|e|r|\n",
    "|w|r|i|t|e|r|s|\n",
    "\n",
    "- 4番目の文字nを削除→eが一致（コスト==4）\n",
    "\n",
    "|0|1|2|3|<font color=\"red\">4</font>|5|6|\n",
    "|:-:|:-:|:-:|:-:|:-:|:-:|:-:|\n",
    "|w|r|i|t|e|r| |\n",
    "|w|r|i|t|e|r|s|\n",
    "\n",
    "- 5番目の文字rは一致（コスト==4）\n",
    "\n",
    "|0|1|2|3|4|<font color=\"red\">5</font>|6|\n",
    "|:-:|:-:|:-:|:-:|:-:|:-:|:-:|\n",
    "|w|r|i|t|e|r| |\n",
    "|w|r|i|t|e|r|s|\n",
    "\n",
    "- 6番目に文字sを挿入（コスト==5）\n",
    "\n",
    "|0|1|2|3|4|5|<font color=\"red\">6</font>|\n",
    "|:-:|:-:|:-:|:-:|:-:|:-:|:-:|\n",
    "|w|r|i|t|e|r|s|\n",
    "|w|r|i|t|e|r|s|\n",
    "\n",
    "文字列AとBは一致し、コスト5を得ました。あとは、最小のコストを得るアルゴリズムを考え、実装すれば良いですね。"
   ]
  },
  {
   "cell_type": "markdown",
   "metadata": {},
   "source": [
    "## 編集距離の実装（正解）を見る\n",
    "\n",
    "[Wikipedia](https://ja.wikipedia.org/wiki/レーベンシュタイン距離)には、(n+1)(m+1)の二次元配列を作成し、二重ループを回すアルゴリズムが擬似コードで示されています。しかし、本質を理解／説明するためには、ループのような低次元な書き方は避けたいところです。\n",
    "\n",
    "こういうときは、[Rosetta CodeのHaskellでの実装](https://rosettacode.org/wiki/Levenshtein_distance#Haskell)が参考になる…と思いきや、こちらは高次元すぎてワケわかんにゃい。Haskellを理解できない自分の頭がうらめしい。\n",
    "\n",
    "幸いにも、[Rosetta CodeのPythonでの実装](https://rosettacode.org/wiki/Levenshtein_distance#Memoized_recursive_version_2)に、ちょうど良いレベル感のコードがあったので、ほんの一部変更して、以下に引用します。このコードを理解／説明するのが、本記事のゴールです。"
   ]
  },
  {
   "cell_type": "code",
   "execution_count": 1,
   "metadata": {},
   "outputs": [
    {
     "name": "stdout",
     "output_type": "stream",
     "text": [
      "5\n"
     ]
    }
   ],
   "source": [
    "from functools import lru_cache\n",
    "\n",
    "@lru_cache(maxsize=4096)\n",
    "def ld(s, t):\n",
    "    if not s: return len(t)\n",
    "    if not t: return len(s)\n",
    "    if s[0] == t[0]: return ld(s[1:], t[1:])\n",
    "    l1 = ld(s, t[1:])\n",
    "    l2 = ld(s[1:], t)\n",
    "    l3 = ld(s[1:], t[1:])\n",
    "    return 1 + min(l1, l2, l3)\n",
    "\n",
    "print(ld('vintner', 'writers'))"
   ]
  },
  {
   "cell_type": "markdown",
   "metadata": {},
   "source": [
    "## デコレータについて理解する\n",
    "\n",
    "のっけから「@lru_cache(maxsize=4096)」と来たもんだ。これは、**デコレータ**と呼ばれます。クラスメソッドを定義する際に、定義の直前に@classmethodと書くと思いますが、あれもデコレータです。\n",
    "\n",
    "デコレータは、関数に何らかの機能を追加するものです。その実体は、引数と戻り値が関数であるような関数です。構文糖衣のため、簡潔に書くことができるようになっています。\n",
    "\n",
    "[Python用語集](https://docs.python.jp/3/glossary.html#term-decorator)に、以下の記載があります。\n",
    "\n",
    ">**decorator**\n",
    ">\n",
    ">(デコレータ) 別の関数を返す関数で、通常、 @wrapper 構文で関数変換として適用されます。デコレータの一般的な利用例は、 classmethod() と staticmethod() です。\n",
    ">\n",
    ">デコレータの文法はシンタックスシュガーです。次の2つの関数定義は意味的に同じものです:\n",
    ">\n",
    ">```python\n",
    ">def f(...):\n",
    ">    ...\n",
    ">f = staticmethod(f)\n",
    ">\n",
    ">@staticmethod\n",
    ">def f(...):\n",
    ">    ...\n",
    ">```\n",
    "\n",
    "デコレータは重要機能ですので、Qiitaでも記事に取り上げられています。\n",
    "\n",
    "- [Python デコレータ再入門　 ~デコレータは種類別に覚えよう~](https://qiita.com/macinjoke/items/1be6cf0f1f238b5ba01b)\n",
    "- [Pythonのデコレータについて](https://qiita.com/mtb_beta/items/d257519b018b8cd0cc2e)\n",
    "- [Pythonのデコレータを理解するための12Step](https://qiita.com/_rdtr/items/d3bc1a8d4b7eb375c368)\n",
    "\n",
    "以下の例は、関数に「お腹すいた」アピール機能を追加します。"
   ]
  },
  {
   "cell_type": "code",
   "execution_count": 2,
   "metadata": {},
   "outputs": [
    {
     "name": "stdout",
     "output_type": "stream",
     "text": [
      "お腹すいた\n",
      "45\n",
      "お腹すいた\n",
      "9\n"
     ]
    }
   ],
   "source": [
    "def hungry(f):\n",
    "    def wrapper(*args, **kwargs):\n",
    "        print('お腹すいた')\n",
    "        return f(*args, **kwargs)\n",
    "    return wrapper\n",
    "\n",
    "@hungry\n",
    "def msum(iterable):\n",
    "    return sum(iterable)\n",
    "\n",
    "@hungry\n",
    "def mmax(iterable):\n",
    "    return max(iterable)\n",
    "\n",
    "print(msum(range(10)))\n",
    "print(mmax(range(10)))"
   ]
  },
  {
   "cell_type": "markdown",
   "metadata": {},
   "source": [
    "編集距離の実装を理解するため、まずは、デコレータについて理解しました。\n",
    "\n",
    "次なる疑問は、先ほどの「@lru_cache(maxsize=4096)」が、具体的にどんな機能を追加してくれるのか、という点です。"
   ]
  },
  {
   "cell_type": "markdown",
   "metadata": {},
   "source": [
    "## メモ化について理解する\n",
    "\n",
    "結論を先に言うと、「@lru_cache(maxsize=4096)」は、関数に**メモ化**の機能を追加してくれます。Python Documentationでは、[ここ](https://docs.python.jp/3/library/functools.html#functools.lru_cache)に説明があります。\n",
    "\n",
    "メモ化とは、計算結果をメモしておき、再利用する手法のことです。[Wikipedia](https://ja.wikipedia.org/wiki/%E3%83%A1%E3%83%A2%E5%8C%96)の説明は以下です。\n",
    "\n",
    ">メモ化（英: Memoization）とは、プログラムの高速化のための最適化技法の一種であり、サブルーチン呼び出しの結果を後で再利用するために保持し、そのサブルーチン（関数）の呼び出し毎の再計算を防ぐ手法である。\n",
    "\n",
    "例として、階乗からなる数列を計算するとします。すなわち、リスト $[1!, 2!, 3!, 4!, 5!, ...]$ を得たいとします。このとき、$5!$ を定義通りに $5\\cdot4\\cdot3\\cdot2\\cdot1$ と計算するのでなく、直前の $4!$ の計算結果をメモしておいて、$5\\cdot4!$ と計算したほうがコストが少なくて済みますよね。これがメモ化の恩恵です。フィボナッチ数列などでも同様のことがいえます。\n",
    "\n",
    "Pythonではデコレータ「@lru_cache」によりメモ化の機能を追加することができます。maxsizeは、メモのサイズを意味します。maxsizeに0を指定した場合、メモを使わないのと同義です。以下に階乗の例を示します。\n",
    "\n",
    "※余談：[0の階乗は1である](https://mathtrain.jp/0nokaijo)。"
   ]
  },
  {
   "cell_type": "code",
   "execution_count": 3,
   "metadata": {},
   "outputs": [
    {
     "name": "stdout",
     "output_type": "stream",
     "text": [
      "maxsize = 0\n",
      "CPU times: user 21.4 ms, sys: 1.04 ms, total: 22.5 ms\n",
      "Wall time: 22.4 ms\n",
      "CacheInfo(hits=0, misses=5150, maxsize=0, currsize=0) \n",
      "\n",
      "maxsize = 1\n",
      "CPU times: user 80 µs, sys: 0 ns, total: 80 µs\n",
      "Wall time: 86.1 µs\n",
      "CacheInfo(hits=99, misses=101, maxsize=1, currsize=1) \n",
      "\n",
      "maxsize = 2\n",
      "CPU times: user 82 µs, sys: 1 µs, total: 83 µs\n",
      "Wall time: 87 µs\n",
      "CacheInfo(hits=99, misses=101, maxsize=2, currsize=2) \n",
      "\n"
     ]
    }
   ],
   "source": [
    "from functools import lru_cache\n",
    "\n",
    "for i in range(3):\n",
    "    @lru_cache(maxsize=i)\n",
    "    def pow(n):\n",
    "        return 1 if n == 0 else n * pow(n - 1)\n",
    "    print('maxsize =', i)\n",
    "    %time [pow(n) for n in range(1, 101)]\n",
    "    print(pow.cache_info(), '\\n')"
   ]
  },
  {
   "cell_type": "markdown",
   "metadata": {},
   "source": [
    "メモを使う場合と使わない場合とで、20倍強の差が出ました。メモ化の恩恵は大きいですね。\n",
    "\n",
    "メモ化は重要な手法ですので、Qiitaでも記事に取り上げられています。\n",
    "\n",
    "- [１行追加するだけの超お手軽な高速化その１　メモ化](https://qiita.com/alchemist/items/c75174c41b0bcd31ecc6)\n",
    "- [再帰関数の性能とメモ化を検証してみる](https://qiita.com/niisan-tokyo/items/36dac788ced43c3c1322)\n",
    "\n",
    "一番目の記事でご指摘のとおり、メモ化を行うためには**参照透過**（引数が同じであれば戻り値が同じ）が必須条件となります。現在時刻を返すような関数をメモ化しても役に立ちません。\n",
    "\n",
    "二番目の記事はPHPの例ですが、原因分析がわかりやすいなと思いました。再帰で書くとシュッと書ける（可読性は上がる）が、呼び出し回数が飛躍的に増加してしまう。メモ化はその弱点を補う。これは本質をついていると思います。\n",
    "\n",
    "というわけで、編集距離の実装を理解するため、メモ化についても理解しました。重要なのは、メモ化することにより、再帰で書けているため、きわめて可読性の高いコードになっている、という点です。"
   ]
  },
  {
   "cell_type": "markdown",
   "metadata": {},
   "source": [
    "## 編集距離の実装（正解）を理解する\n",
    "\n",
    "可読性の高いコードなので、絵を描いたりしなくても、コードにコメントを追記すれば、理解／説明に十分なはずです。"
   ]
  },
  {
   "cell_type": "code",
   "execution_count": 4,
   "metadata": {},
   "outputs": [
    {
     "name": "stdout",
     "output_type": "stream",
     "text": [
      "5\n"
     ]
    }
   ],
   "source": [
    "from functools import lru_cache\n",
    "\n",
    "@lru_cache(maxsize=4096)\n",
    "def ld(s, t):\n",
    "    '''文字列のレーベンシュタイン距離を計算する'''\n",
    "    \n",
    "    # 一方が空文字列なら、他方の長さが求める距離\n",
    "    if not s: return len(t)\n",
    "    if not t: return len(s)\n",
    "    \n",
    "    # 一文字目が一致なら、二文字目以降の距離が求める距離\n",
    "    if s[0] == t[0]: return ld(s[1:], t[1:])\n",
    "    \n",
    "    # 一文字目が不一致なら、追加／削除／置換のそれぞれを実施し、\n",
    "    # 残りの文字列についてのコストを計算する\n",
    "    \n",
    "    # Sの先頭に追加\n",
    "    l1 = ld(s, t[1:])\n",
    "    \n",
    "    # Sの先頭を削除\n",
    "    l2 = ld(s[1:], t)\n",
    "    \n",
    "    # Sの先頭を置換\n",
    "    l3 = ld(s[1:], t[1:])\n",
    "    \n",
    "    # 追加／削除／置換を実施した分コスト（距離）1の消費は確定\n",
    "    # 残りの文字列についてのコストの最小値を足せば距離となる\n",
    "    return 1 + min(l1, l2, l3)\n",
    "\n",
    "print(ld('vintner', 'writers'))"
   ]
  },
  {
   "cell_type": "markdown",
   "metadata": {},
   "source": [
    "## 補足：編集距離の発展形を理解する\n",
    "\n",
    "文字列Aと文字列Bの編集距離のレンジは、0 〜 max(len(A), len(B)) です。これを 0 〜 1 に**標準化**したいというのは、誰もが思うこと。以下記事にならい、「長い方の文字列の長さで編集距離を割る」ことにしましょう。\n",
    "\n",
    "- [文字列間の類似性を測るための『標準化』編集距離の計算方法について](https://qiita.com/Ishio/items/d52b9221c92bd4ebb344)\n"
   ]
  },
  {
   "cell_type": "code",
   "execution_count": 5,
   "metadata": {},
   "outputs": [
    {
     "name": "stdout",
     "output_type": "stream",
     "text": [
      "0.0\n",
      "0.5\n",
      "1.0\n"
     ]
    }
   ],
   "source": [
    "from functools import lru_cache\n",
    "\n",
    "@lru_cache(maxsize=4096)\n",
    "def ld(s, t):\n",
    "    if not s: return len(t)\n",
    "    if not t: return len(s)\n",
    "    if s[0] == t[0]: return ld(s[1:], t[1:])\n",
    "    l1 = ld(s, t[1:])\n",
    "    l2 = ld(s[1:], t)\n",
    "    l3 = ld(s[1:], t[1:])\n",
    "    return 1 + min(l1, l2, l3)\n",
    "\n",
    "def lds(s, t):\n",
    "    return ld(s, t) / max(len(s), len(t))\n",
    "\n",
    "print(lds('xx', 'xx'))\n",
    "print(lds('xx', 'xy'))\n",
    "print(lds('xx', 'yy'))"
   ]
  },
  {
   "cell_type": "markdown",
   "metadata": {},
   "source": [
    "いい感じですね。\n",
    "\n",
    "最後に、距離ではなく、類似度を表すようにしてみましょうか。$y = -x + 1$ となるよう線形変換してやれば良いはずです。"
   ]
  },
  {
   "cell_type": "code",
   "execution_count": 6,
   "metadata": {},
   "outputs": [
    {
     "name": "stdout",
     "output_type": "stream",
     "text": [
      "1.0\n",
      "0.5\n",
      "0.0\n"
     ]
    }
   ],
   "source": [
    "from functools import lru_cache\n",
    "\n",
    "@lru_cache(maxsize=4096)\n",
    "def ld(s, t):\n",
    "    if not s: return len(t)\n",
    "    if not t: return len(s)\n",
    "    if s[0] == t[0]: return ld(s[1:], t[1:])\n",
    "    l1 = ld(s, t[1:])\n",
    "    l2 = ld(s[1:], t)\n",
    "    l3 = ld(s[1:], t[1:])\n",
    "    return 1 + min(l1, l2, l3)\n",
    "\n",
    "def lds(s, t):\n",
    "    return ld(s, t) / max(len(s), len(t))\n",
    "\n",
    "def lss(s, t):\n",
    "    return -lds(s, t) + 1\n",
    "\n",
    "print(lss('xx', 'xx'))\n",
    "print(lss('xx', 'xy'))\n",
    "print(lss('xx', 'yy'))"
   ]
  },
  {
   "cell_type": "markdown",
   "metadata": {},
   "source": [
    "できました。\n",
    "\n",
    "発展形まで含め、編集距離について、理解した上で、Pythonで実装できている状態となりました。ゴールを達成できたので、本記事を締めくくりたいと思います。\n",
    "\n",
    "ご購読ありがとうございました！"
   ]
  },
  {
   "cell_type": "code",
   "execution_count": null,
   "metadata": {},
   "outputs": [],
   "source": []
  }
 ],
 "metadata": {
  "kernelspec": {
   "display_name": "introduction",
   "language": "python",
   "name": "introduction"
  },
  "language_info": {
   "codemirror_mode": {
    "name": "ipython",
    "version": 3
   },
   "file_extension": ".py",
   "mimetype": "text/x-python",
   "name": "python",
   "nbconvert_exporter": "python",
   "pygments_lexer": "ipython3",
   "version": "3.6.6"
  }
 },
 "nbformat": 4,
 "nbformat_minor": 2
}
